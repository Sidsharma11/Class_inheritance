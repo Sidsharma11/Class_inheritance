{
 "cells": [
  {
   "cell_type": "markdown",
   "metadata": {},
   "source": [
    "<h2 align=\"center\" style=\"color:blue\">Codebasics Python Course: Classes & File Handling</h2>"
   ]
  },
  {
   "cell_type": "markdown",
   "metadata": {},
   "source": [
    "**Background:** AtliQ, a software-based service company, operates an internal library to support the continuous learning and development of its employees. The library contains various types of items, such as books and journals, available for borrowing.\n",
    "\n",
    "**Problem Statement:** Celina, the librarian at AtliQ, currently handles the logistics of borrowing and returning items manually, which includes managing the status of each item and handling exceptions like borrowing attempts on items that are already loaned out. Your task is to assist Celina by automating part of her workload by completing the following tasks using Python."
   ]
  },
  {
   "cell_type": "markdown",
   "metadata": {},
   "source": [
    "### Task 1: Implement the LibraryItem Class\n",
    "\n",
    "**Scenario:** Help Celina automate the borrowing and returning process for items in AtliQ's library.\n",
    "\n",
    "**Task:** Create a Python class ```LibraryItem``` with the following structure:\n",
    "\n",
    "**Attributes:**\n",
    "\n",
    "```title:``` Name of the item. \n",
    "\n",
    "```is_borrowed:``` Boolean, True if borrowed, False otherwise.\n",
    "\n",
    "**Methods:**\n",
    "\n",
    "```borrow_item()```: If is_borrowed is True, raise an exception\n",
    "\n",
    "```raise Exception(f\"The item '{self.title}' is already borrowed.\")```\n",
    "\n",
    "Otherwise, set ```is_borrowed``` to True.\n",
    "\n",
    "```return_item()``` should also have a similar logic."
   ]
  },
  {
   "cell_type": "code",
   "execution_count": 53,
   "metadata": {},
   "outputs": [],
   "source": [
    "class Library_item:\n",
    "    def __init__(self,title):\n",
    "        self.title=title\n",
    "        self.is_borrowed=False\n",
    "\n",
    "    def borrow_item(self):\n",
    "        if self.is_borrowed:\n",
    "            raise Exception(f\"The item '{self.title}' has already been borrowed.\")\n",
    "        else:\n",
    "            self.is_borrowed=True\n",
    "            print(f'{self.title} has been borrowed')\n",
    "\n",
    "    def return_item(self):\n",
    "        if self.is_borrowed==False:\n",
    "            raise Exception(f'The item {self.title} is not issued yet')\n",
    "        else:\n",
    "           self.is_borrowed=False\n",
    "           print(f'{self.title} has been returned')\n",
    "        \n",
    "            "
   ]
  },
  {
   "cell_type": "code",
   "execution_count": 54,
   "metadata": {},
   "outputs": [
    {
     "data": {
      "text/plain": [
       "'The Magic of Thinking Big'"
      ]
     },
     "execution_count": 54,
     "metadata": {},
     "output_type": "execute_result"
    }
   ],
   "source": [
    "book_1=Library_item(\"The Magic of Thinking Big\")\n",
    "book_1.title"
   ]
  },
  {
   "cell_type": "code",
   "execution_count": 55,
   "metadata": {},
   "outputs": [
    {
     "name": "stdout",
     "output_type": "stream",
     "text": [
      "The Magic of Thinking Big has been borrowed\n"
     ]
    }
   ],
   "source": [
    "book_1.borrow_item()"
   ]
  },
  {
   "cell_type": "code",
   "execution_count": 56,
   "metadata": {},
   "outputs": [
    {
     "name": "stdout",
     "output_type": "stream",
     "text": [
      "The Magic of Thinking Big has been returned\n"
     ]
    }
   ],
   "source": [
    "book_1.return_item()"
   ]
  },
  {
   "cell_type": "code",
   "execution_count": 57,
   "metadata": {},
   "outputs": [
    {
     "name": "stdout",
     "output_type": "stream",
     "text": [
      "The Magic of Thinking Big has been borrowed\n"
     ]
    }
   ],
   "source": [
    "book_1.borrow_item()"
   ]
  },
  {
   "cell_type": "code",
   "execution_count": 58,
   "metadata": {},
   "outputs": [
    {
     "ename": "Exception",
     "evalue": "The item 'The Magic of Thinking Big' has already been borrowed.",
     "output_type": "error",
     "traceback": [
      "\u001b[1;31m---------------------------------------------------------------------------\u001b[0m",
      "\u001b[1;31mException\u001b[0m                                 Traceback (most recent call last)",
      "Cell \u001b[1;32mIn[58], line 1\u001b[0m\n\u001b[1;32m----> 1\u001b[0m \u001b[43mbook_1\u001b[49m\u001b[38;5;241;43m.\u001b[39;49m\u001b[43mborrow_item\u001b[49m\u001b[43m(\u001b[49m\u001b[43m)\u001b[49m\n",
      "Cell \u001b[1;32mIn[53], line 8\u001b[0m, in \u001b[0;36mLibrary_item.borrow_item\u001b[1;34m(self)\u001b[0m\n\u001b[0;32m      6\u001b[0m \u001b[38;5;28;01mdef\u001b[39;00m \u001b[38;5;21mborrow_item\u001b[39m(\u001b[38;5;28mself\u001b[39m):\n\u001b[0;32m      7\u001b[0m     \u001b[38;5;28;01mif\u001b[39;00m \u001b[38;5;28mself\u001b[39m\u001b[38;5;241m.\u001b[39mis_borrowed:\n\u001b[1;32m----> 8\u001b[0m         \u001b[38;5;28;01mraise\u001b[39;00m \u001b[38;5;167;01mException\u001b[39;00m(\u001b[38;5;124mf\u001b[39m\u001b[38;5;124m\"\u001b[39m\u001b[38;5;124mThe item \u001b[39m\u001b[38;5;124m'\u001b[39m\u001b[38;5;132;01m{\u001b[39;00m\u001b[38;5;28mself\u001b[39m\u001b[38;5;241m.\u001b[39mtitle\u001b[38;5;132;01m}\u001b[39;00m\u001b[38;5;124m'\u001b[39m\u001b[38;5;124m has already been borrowed.\u001b[39m\u001b[38;5;124m\"\u001b[39m)\n\u001b[0;32m      9\u001b[0m     \u001b[38;5;28;01melse\u001b[39;00m:\n\u001b[0;32m     10\u001b[0m         \u001b[38;5;28mself\u001b[39m\u001b[38;5;241m.\u001b[39mis_borrowed\u001b[38;5;241m=\u001b[39m\u001b[38;5;28;01mTrue\u001b[39;00m\n",
      "\u001b[1;31mException\u001b[0m: The item 'The Magic of Thinking Big' has already been borrowed."
     ]
    }
   ],
   "source": [
    "book_1.borrow_item()"
   ]
  },
  {
   "cell_type": "markdown",
   "metadata": {},
   "source": [
    "### Task 2: Create the Book Class\n",
    "\n",
    "**Scenario:** Celina at AtliQ's library needs to catalog books separately from other items to provide detailed information, including the authors' names.\n",
    "\n",
    "**Task:** Develop a derived class Book from ```LibraryItem``` to manage books with additional details.\n",
    "\n",
    "**Details:**\n",
    "\n",
    "**1. Attributes:**\n",
    "\n",
    "- Inherits all attributes from ```LibraryItem```.\n",
    "\n",
    "- ```author```: Name of the book's author.\n",
    "\n",
    "**2. Implementation:**\n",
    "\n",
    "- Create an object of the Book class with:\n",
    "    - ```title```: \"The Magic of Thinking Big\"\n",
    "    - ```author```: \"David Schwartz\"\n",
    "\n",
    "This will help Celina keep a more detailed inventory and enhance the library’s catalog system. "
   ]
  },
  {
   "cell_type": "code",
   "execution_count": null,
   "metadata": {},
   "outputs": [],
   "source": []
  },
  {
   "cell_type": "code",
   "execution_count": 22,
   "metadata": {},
   "outputs": [
    {
     "name": "stdout",
     "output_type": "stream",
     "text": [
      "David Schwartz is the author of book The Magic of Thinking Big\n"
     ]
    }
   ],
   "source": [
    "class Book(Library_item):\n",
    "    def __init__(self,title,is_borrowed,author):\n",
    "        super().__init__(title,is_borrowed)\n",
    "        self.author=author\n",
    "\n",
    "    def get_info(self):\n",
    "        return f'{self.author} is the author of book {self.title}'\n",
    "\n",
    "    def book_status(self):\n",
    "         if self.is_borrowed:\n",
    "             raise Exception(f'The book is already borrowed')\n",
    "         else:\n",
    "             self.is_borrowed=True\n",
    "\n",
    "\n",
    "Object_book=Book(\"The Magic of Thinking Big\",True, \"David Schwartz\")\n",
    "\n",
    "print(Object_book.get_info())\n",
    "        "
   ]
  },
  {
   "cell_type": "markdown",
   "metadata": {},
   "source": [
    "### Task 3: Create the Journal Class\n",
    "\n",
    "**Scenario:** Celina needs to manage journals effectively in AtliQ's library, where each journal has specific issues that are often requested by staff for their research and development work.\n",
    "\n",
    "**Task:** Develop a derived class ```Journal``` from ```LibraryItem``` to manage journals with specific issue numbers.\n",
    "\n",
    "**Details:**\n",
    "\n",
    "**1. Attributes:**\n",
    "\n",
    "- Inherits all attributes from ```LibraryItem```.\n",
    "- ```issue_number```: The specific issue number of the journal.\n",
    "\n",
    "**2. Implementation:**\n",
    "\n",
    "- Create an object of the Journal class with:\n",
    "    - ```title```: \"Nature\"\n",
    "    - ```issue_number``` : 50\n",
    "\n",
    "This setup will help Celina organize journals by issue number, making them easier to locate and manage."
   ]
  },
  {
   "cell_type": "code",
   "execution_count": 66,
   "metadata": {},
   "outputs": [
    {
     "name": "stdout",
     "output_type": "stream",
     "text": [
      "The journal with title Nature, has issue number 50\n"
     ]
    }
   ],
   "source": [
    "class Journal(Library_item):\n",
    "    def __init__(self,title,issue_number):\n",
    "        super().__init__(title)\n",
    "        self.issue_number=issue_number\n",
    "\n",
    "    def journal_info(self):\n",
    "        return f'The journal with title {self.title}, has issue number {self.issue_number}'\n",
    "\n",
    "\n",
    "Journal_1=Journal(\"Nature\",50)\n",
    "\n",
    "print(Journal_1.journal_info())\n",
    "\n",
    "  \n",
    "\n",
    "\n",
    "\n",
    "\n",
    "\n"
   ]
  },
  {
   "cell_type": "markdown",
   "metadata": {},
   "source": [
    "### Task 4: Handle Borrowing Exceptions\n",
    "\n",
    "**Scenario:** Celina sometimes gets requests to borrow a book that’s already borrowed. To prevent this, we need to handle this situation in our code.\n",
    "\n",
    "**Task:** Try borrowing the same book twice and handle the exception that occurs.\n",
    "\n",
    "**Details:**\n",
    "\n",
    "**1. Process:**\n",
    "\n",
    "- Use the Book object from Task 2.\n",
    "- Attempt to borrow the book two times in a row.\n",
    "\n",
    "**2. Exception Handling:**\n",
    "\n",
    "- Catch the exception raised when trying to borrow it the second time.\n",
    "- Print the exception message.\n",
    "\n",
    "This will help Celina prevent errors when someone tries to borrow an already borrowed book."
   ]
  },
  {
   "cell_type": "code",
   "execution_count": 59,
   "metadata": {},
   "outputs": [
    {
     "name": "stdout",
     "output_type": "stream",
     "text": [
      "The item 'The Magic of Thinking Big' has already been borrowed.\n"
     ]
    }
   ],
   "source": [
    "try:\n",
    "    book_1.borrow_item()\n",
    "    book_1.borrow_item()\n",
    "except Exception as e:\n",
    "    print(e)\n",
    "\n",
    "\n"
   ]
  },
  {
   "cell_type": "markdown",
   "metadata": {},
   "source": [
    "### Task 5: Handle Return Exceptions\n",
    "\n",
    "**Scenario:** Celina sometimes faces issues when someone tries to return a journal that hasn’t been borrowed yet. This creates an opportunity to ensure such mistakes are handled gracefully.\n",
    "\n",
    "**Task:** Simulate and handle the exception when trying to return a journal that has not been borrowed.\n",
    "\n",
    "**Details:**\n",
    "\n",
    "**1. Process:**\n",
    "\n",
    "- Use the Journal object from Task 3.\n",
    "- Attempt to return the journal without it being borrowed first.\n",
    "\n",
    "**2. Exception Handling:**\n",
    "\n",
    "- Catch the exception that occurs when trying to return the un-borrowed journal.\n",
    "- Print the exception message.\n",
    "\n",
    "This will assist Celina in managing return processes more efficiently and prevent unnecessary errors."
   ]
  },
  {
   "cell_type": "code",
   "execution_count": 67,
   "metadata": {},
   "outputs": [
    {
     "name": "stdout",
     "output_type": "stream",
     "text": [
      "The item Nature is not issued yet\n"
     ]
    }
   ],
   "source": [
    "try:\n",
    "    Journal_1.return_item()\n",
    "except Exception as e:\n",
    "    print(e)"
   ]
  },
  {
   "cell_type": "code",
   "execution_count": null,
   "metadata": {},
   "outputs": [],
   "source": []
  }
 ],
 "metadata": {
  "colab": {
   "collapsed_sections": [],
   "name": "1_Variables.ipynb",
   "provenance": []
  },
  "kernelspec": {
   "display_name": "Python 3 (ipykernel)",
   "language": "python",
   "name": "python3"
  },
  "language_info": {
   "codemirror_mode": {
    "name": "ipython",
    "version": 3
   },
   "file_extension": ".py",
   "mimetype": "text/x-python",
   "name": "python",
   "nbconvert_exporter": "python",
   "pygments_lexer": "ipython3",
   "version": "3.8.10"
  }
 },
 "nbformat": 4,
 "nbformat_minor": 4
}
